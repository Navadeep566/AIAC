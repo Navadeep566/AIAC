{
  "nbformat": 4,
  "nbformat_minor": 0,
  "metadata": {
    "colab": {
      "provenance": []
    },
    "kernelspec": {
      "name": "python3",
      "display_name": "Python 3"
    },
    "language_info": {
      "name": "python"
    }
  },
  "cells": [
    {
      "cell_type": "markdown",
      "source": [
        "**TASK - 1**"
      ],
      "metadata": {
        "id": "5IZfVLeuCnJR"
      }
    },
    {
      "cell_type": "code",
      "metadata": {
        "colab": {
          "base_uri": "https://localhost:8080/"
        },
        "id": "769ec412",
        "outputId": "5a972465-e086-4763-82f7-8806520a5fe9"
      },
      "source": [
        "def linear_search(list_to_search, value_to_find):\n",
        "    \"\"\"\n",
        "    Performs a linear search on a list to find the index of a given value.\n",
        "\n",
        "    Args:\n",
        "        list_to_search: The list to search within.\n",
        "        value_to_find: The value to search for.\n",
        "\n",
        "    Returns:\n",
        "        The index of the value if found, otherwise -1.\n",
        "    \"\"\"\n",
        "    for i in range(len(list_to_search)):\n",
        "        if list_to_search[i] == value_to_find:\n",
        "            return i\n",
        "    return -1\n",
        "\n",
        "# Get input from the user\n",
        "input_list_str = input(\"Enter the list elements separated by spaces: \")\n",
        "input_list = input_list_str.split()\n",
        "\n",
        "value_to_find_str = input(\"Enter the value to search for: \")\n",
        "\n",
        "# Convert input list elements to appropriate type if needed (e.g., integers)\n",
        "# For simplicity, we'll keep them as strings for now, but you might need to convert\n",
        "# based on the expected data type of your list.\n",
        "# Example for integers: input_list = [int(x) for x in input_list_str.split()]\n",
        "# Example for integers: value_to_find = int(value_to_find_str)\n",
        "\n",
        "# Perform the linear search\n",
        "index = linear_search(input_list, value_to_find_str)\n",
        "\n",
        "# Display the result\n",
        "if index != -1:\n",
        "    print(f\"Value found at index: {index}\")\n",
        "else:\n",
        "    print(\"Value not found in the list.\")"
      ],
      "execution_count": 2,
      "outputs": [
        {
          "output_type": "stream",
          "name": "stdout",
          "text": [
            "Enter the list elements separated by spaces: 1 2 3 4 5 6\n",
            "Enter the value to search for: 2\n",
            "Value found at index: 1\n"
          ]
        }
      ]
    },
    {
      "cell_type": "markdown",
      "source": [
        "**TASK - 2**"
      ],
      "metadata": {
        "id": "04phC7glCraw"
      }
    },
    {
      "cell_type": "code",
      "metadata": {
        "colab": {
          "base_uri": "https://localhost:8080/"
        },
        "id": "d8744fba",
        "outputId": "5ecdff4b-3e19-4e10-d6c3-1ac808e879e6"
      },
      "source": [
        "def bubble_sort(list_to_sort):\n",
        "    \"\"\"\n",
        "    Sorts a list using the Bubble Sort algorithm.\n",
        "\n",
        "    Args:\n",
        "        list_to_sort: The list to be sorted.\n",
        "\n",
        "    Returns:\n",
        "        The sorted list.\n",
        "    \"\"\"\n",
        "    n = len(list_to_sort)\n",
        "    for i in range(n):\n",
        "        # Last i elements are already in place\n",
        "        for j in range(0, n - i - 1):\n",
        "            # traverse the list from 0 to n-i-1\n",
        "            # Swap if the element found is greater than the next element\n",
        "            if list_to_sort[j] > list_to_sort[j + 1]:\n",
        "                list_to_sort[j], list_to_sort[j + 1] = list_to_sort[j + 1], list_to_sort[j]\n",
        "    return list_to_sort\n",
        "\n",
        "# Get input from the user\n",
        "input_list_str = input(\"Enter the list elements separated by spaces: \")\n",
        "input_list = input_list_str.split()\n",
        "\n",
        "# Convert input list elements to appropriate type if needed (e.g., integers)\n",
        "# For simplicity, we'll keep them as strings for now, but you might need to convert\n",
        "# based on the expected data type of your list.\n",
        "# Example for integers: input_list = [int(x) for x in input_list_str.split()]\n",
        "\n",
        "# Perform Bubble Sort\n",
        "sorted_list = bubble_sort(input_list)\n",
        "\n",
        "# Display the sorted list\n",
        "print(\"Sorted list:\", sorted_list)"
      ],
      "execution_count": 3,
      "outputs": [
        {
          "output_type": "stream",
          "name": "stdout",
          "text": [
            "Enter the list elements separated by spaces: 1 2 3 4 5 6 7\n",
            "Sorted list: ['1', '2', '3', '4', '5', '6', '7']\n"
          ]
        }
      ]
    },
    {
      "cell_type": "markdown",
      "source": [
        "**TASK - 3**"
      ],
      "metadata": {
        "id": "fR135HaKCzZr"
      }
    },
    {
      "cell_type": "code",
      "source": [
        "from scipy.optimize import linprog\n",
        "import numpy as np\n",
        "\n",
        "def solve_chocolate_optimization():\n",
        "    \"\"\"\n",
        "    Solves the chocolate manufacturing LPP using scipy.optimize.linprog,\n",
        "    taking input values from the user.\n",
        "    \"\"\"\n",
        "    print(\"--- Enter Input Values ---\")\n",
        "\n",
        "    # Get profit coefficients\n",
        "    profit_a = float(input(\"Enter profit per unit of Chocolate A (Rs): \"))\n",
        "    profit_b = float(input(\"Enter profit per unit of Chocolate B (Rs): \"))\n",
        "\n",
        "    # Get resource requirements and total availability for Milk\n",
        "    milk_req_a = float(input(\"Enter Milk requirement for Unit A: \"))\n",
        "    milk_req_b = float(input(\"Enter Milk requirement for Unit B: \"))\n",
        "    total_milk = float(input(\"Enter total Milk available: \"))\n",
        "\n",
        "    # Get resource requirements and total availability for Choco\n",
        "    choco_req_a = float(input(\"Enter Choco requirement for Unit A: \"))\n",
        "    choco_req_b = float(input(\"Enter Choco requirement for Unit B: \"))\n",
        "    total_choco = float(input(\"Enter total Choco available: \"))\n",
        "\n",
        "    # 1. Define the objective function coefficients (c)\n",
        "    # We minimize -Z, so the coefficients are negative of the profits.\n",
        "    c = np.array([-profit_a, -profit_b])\n",
        "\n",
        "    # 2. Define the inequality constraint matrix (A_ub)\n",
        "    # [Milk constraint coefficients]\n",
        "    # [Choco constraint coefficients]\n",
        "    A_ub = np.array([[milk_req_a, milk_req_b],\n",
        "                     [choco_req_a, choco_req_b]])\n",
        "\n",
        "    # 3. Define the right-hand side of the constraints (b_ub)\n",
        "    b_ub = np.array([total_milk, total_choco])\n",
        "\n",
        "    # 4. Define bounds for the variables (x >= 0, y >= 0)\n",
        "    x_bounds = (0, None)\n",
        "    y_bounds = (0, None)\n",
        "    bounds = [x_bounds, y_bounds]\n",
        "\n",
        "    # 5. Solve the linear programming problem\n",
        "    result = linprog(c, A_ub=A_ub, b_ub=b_ub, bounds=bounds, method='highs')\n",
        "\n",
        "    print(\"\\n--- Optimization Results ---\")\n",
        "    if result.success:\n",
        "        # Round to the nearest whole number for production units\n",
        "        x_units = round(result.x[0])\n",
        "        y_units = round(result.x[1])\n",
        "        # The minimized result is -Max_Profit, so multiply by -1\n",
        "        max_profit = -result.fun\n",
        "\n",
        "        print(f\"Status: SUCCESS ({result.message})\")\n",
        "        print(f\"Units of Chocolate A (x) to produce: {x_units}\")\n",
        "        print(f\"Units of Chocolate B (y) to produce: {y_units}\")\n",
        "        print(f\"Maximum Profit: Rs {max_profit:.2f}\")\n",
        "    else:\n",
        "        print(f\"Status: FAILED ({result.message})\")\n",
        "\n",
        "# Uncomment the line below to run the function in an interactive environment:\n",
        "# solve_chocolate_optimization()\n",
        "\n",
        "# Example of hardcoded values for the provided case study:\n",
        "# solve_chocolate_optimization(\n",
        "#     profit_a=6, profit_b=5,\n",
        "#     milk_req_a=1, milk_req_b=1, total_milk=5,\n",
        "#     choco_req_a=3, choco_req_b=3, total_choco=12\n",
        "# )"
      ],
      "metadata": {
        "colab": {
          "base_uri": "https://localhost:8080/"
        },
        "id": "ivzOHMrtBHcK",
        "outputId": "62c20437-fed0-4399-bc8a-565b0855fc33"
      },
      "execution_count": 8,
      "outputs": [
        {
          "output_type": "stream",
          "name": "stdout",
          "text": [
            "--- Enter Input Values ---\n",
            "Enter profit per unit of Chocolate A (Rs): 345000\n",
            "Enter profit per unit of Chocolate B (Rs): 123000\n",
            "Enter Milk requirement for Unit A: 66\n",
            "Enter Milk requirement for Unit B: 44\n",
            "Enter total Milk available: 786\n",
            "Enter Choco requirement for Unit A: 621\n",
            "Enter Choco requirement for Unit B: 999\n",
            "Enter total Choco available: 234\n",
            "\n",
            "--- Optimization Results ---\n",
            "Status: SUCCESS (Optimization terminated successfully. (HiGHS Status 7: Optimal))\n",
            "Units of Chocolate A (x) to produce: 0\n",
            "Units of Chocolate B (y) to produce: 0\n",
            "Maximum Profit: Rs 130000.00\n"
          ]
        }
      ]
    },
    {
      "cell_type": "markdown",
      "source": [
        "**TASK - 4**"
      ],
      "metadata": {
        "id": "2PqQFORpFDjJ"
      }
    },
    {
      "cell_type": "code",
      "source": [
        "import numpy as np\n",
        "from scipy.optimize import minimize_scalar\n",
        "\n",
        "# Define the function f(x) = 2x^3 + 4x + 5\n",
        "def f(x):\n",
        "    \"\"\"\n",
        "    The function to be minimized.\n",
        "    f(x) = 2x^3 + 4x + 5\n",
        "    \"\"\"\n",
        "    return 2 * x**3 + 4 * x + 5\n",
        "\n",
        "# Define the derivative f'(x) = 6x^2 + 4\n",
        "def f_prime(x):\n",
        "    \"\"\"\n",
        "    The first derivative of the function.\n",
        "    f'(x) = 6x^2 + 4\n",
        "    \"\"\"\n",
        "    return 6 * x**2 + 4\n",
        "\n",
        "# 1. Analyze for local minima using the derivative (Calculus Check)\n",
        "print(\"--- Calculus Check ---\")\n",
        "# Check if f'(x) = 0 has a real solution\n",
        "# Since 6x^2 + 4 is always >= 4, there are no real roots.\n",
        "# The function is strictly increasing.\n",
        "print(f\"The first derivative, f'(x) = 6x^2 + 4, is always positive (>= 4).\")\n",
        "print(\"This means the function is strictly increasing and has NO local minimum on the real line.\")\n",
        "print(\"The global minimum occurs as x approaches -infinity.\")\n",
        "\n",
        "# 2. Use a numerical solver (searching over a constrained interval)\n",
        "print(\"\\n--- Numerical Optimization (Constrained Search) ---\")\n",
        "\n",
        "# Since the minimum is at x -> -inf, we define a search interval [a, b].\n",
        "# The optimizer will find the minimum on this interval, which will be at the left endpoint 'a'.\n",
        "# A very large negative number is used for 'a'.\n",
        "a = -100  # Lower bound of the search interval\n",
        "b = 10    # Upper bound of the search interval\n",
        "\n",
        "print(f\"Searching for the minimum within the range x in [{a}, {b}]...\")\n",
        "\n",
        "# Use minimize_scalar to find the minimum on the interval [a, b]\n",
        "result = minimize_scalar(f, bounds=(a, b), method='bounded')\n",
        "\n",
        "if result.success:\n",
        "    x_min = result.x\n",
        "    f_min = result.fun\n",
        "\n",
        "    # Check if the minimum is at the boundary\n",
        "    if np.isclose(x_min, a):\n",
        "        print(f\"\\nThe minimum found is at the boundary of the search range.\")\n",
        "        print(f\"This confirms the minimum is actually at x = -infinity.\")\n",
        "\n",
        "    print(f\"\\nResult on the interval [{a}, {b}]:\")\n",
        "    print(f\"The minimum value of f(x) is approximately {f_min:.4f}\")\n",
        "    print(f\"This minimum occurs at x ≈ {x_min:.4f}\")\n",
        "else:\n",
        "    print(\"Optimization failed.\")"
      ],
      "metadata": {
        "colab": {
          "base_uri": "https://localhost:8080/"
        },
        "id": "jACDEEHgEOuM",
        "outputId": "27b466db-022d-49b4-d641-587e0a114a3b"
      },
      "execution_count": 10,
      "outputs": [
        {
          "output_type": "stream",
          "name": "stdout",
          "text": [
            "--- Calculus Check ---\n",
            "The first derivative, f'(x) = 6x^2 + 4, is always positive (>= 4).\n",
            "This means the function is strictly increasing and has NO local minimum on the real line.\n",
            "The global minimum occurs as x approaches -infinity.\n",
            "\n",
            "--- Numerical Optimization (Constrained Search) ---\n",
            "Searching for the minimum within the range x in [-100, 10]...\n",
            "\n",
            "The minimum found is at the boundary of the search range.\n",
            "This confirms the minimum is actually at x = -infinity.\n",
            "\n",
            "Result on the interval [-100, 10]:\n",
            "The minimum value of f(x) is approximately -2000394.4824\n",
            "This minimum occurs at x ≈ -100.0000\n"
          ]
        }
      ]
    }
  ]
}