{
  "nbformat": 4,
  "nbformat_minor": 0,
  "metadata": {
    "colab": {
      "provenance": []
    },
    "kernelspec": {
      "name": "python3",
      "display_name": "Python 3"
    },
    "language_info": {
      "name": "python"
    }
  },
  "cells": [
    {
      "cell_type": "markdown",
      "source": [
        "**TASK - 1**"
      ],
      "metadata": {
        "id": "nShIQKhN1vo_"
      }
    },
    {
      "cell_type": "code",
      "metadata": {
        "colab": {
          "base_uri": "https://localhost:8080/"
        },
        "id": "67b8c1e1",
        "outputId": "55d88d9b-de32-45af-85a6-65178fac2aee"
      },
      "source": [
        "def rectangle_area(length, width):\n",
        "  return length * width\n",
        "\n",
        "def square_area(side):\n",
        "  return side * side\n",
        "\n",
        "def circle_area(radius):\n",
        "  return 3.14 * radius * radius\n",
        "\n",
        "def calculate_area_refactored(shape, x, y=0):\n",
        "  shape_functions = {\n",
        "      \"rectangle\": rectangle_area,\n",
        "      \"square\": square_area,\n",
        "      \"circle\": circle_area\n",
        "  }\n",
        "  if shape in shape_functions:\n",
        "    if shape == \"rectangle\":\n",
        "      return shape_functions[shape](x, y)\n",
        "    else:\n",
        "      return shape_functions[shape](x)\n",
        "  else:\n",
        "    return \"Invalid shape\"\n",
        "\n",
        "shape = input(\"Enter the shape (rectangle, square, or circle): \")\n",
        "if shape == \"rectangle\":\n",
        "  length = float(input(\"Enter the length: \"))\n",
        "  width = float(input(\"Enter the width: \"))\n",
        "  area = calculate_area_refactored(shape, length, width)\n",
        "elif shape == \"square\":\n",
        "  side = float(input(\"Enter the side length: \"))\n",
        "  area = calculate_area_refactored(shape, side)\n",
        "elif shape == \"circle\":\n",
        "  radius = float(input(\"Enter the radius: \"))\n",
        "  area = calculate_area_refactored(shape, radius)\n",
        "else:\n",
        "  area = calculate_area_refactored(shape, 0) # Pass 0 for x to handle invalid shape case\n",
        "\n",
        "print(f\"The area of the {shape} is: {area}\")"
      ],
      "execution_count": 5,
      "outputs": [
        {
          "output_type": "stream",
          "name": "stdout",
          "text": [
            "Enter the shape (rectangle, square, or circle): square\n",
            "Enter the side length: 6\n",
            "The area of the square is: 36.0\n"
          ]
        }
      ]
    },
    {
      "cell_type": "markdown",
      "source": [
        "**TASK-2**"
      ],
      "metadata": {
        "id": "K8JUdA6e3SNB"
      }
    },
    {
      "cell_type": "code",
      "metadata": {
        "colab": {
          "base_uri": "https://localhost:8080/"
        },
        "id": "ba9af4c0",
        "outputId": "aae7c3e9-395f-4933-cf4b-76efa630a555"
      },
      "source": [
        "def read_file(filename):\n",
        "  try:\n",
        "    with open(filename, \"r\") as f:\n",
        "      data = f.read()\n",
        "    return data\n",
        "  except FileNotFoundError:\n",
        "    return f\"Error: File '{filename}' not found.\"\n",
        "  except Exception as e:\n",
        "    return f\"An error occurred: {e}\"\n",
        "\n",
        "filename = input(\"Enter the name of the file: \")\n",
        "file_content = read_file(filename)\n",
        "print(file_content)"
      ],
      "execution_count": 9,
      "outputs": [
        {
          "output_type": "stream",
          "name": "stdout",
          "text": [
            "Enter the name of the file: navadeep\n",
            "Error: File 'navadeep' not found.\n"
          ]
        }
      ]
    },
    {
      "cell_type": "markdown",
      "source": [
        "**TASK - 3**"
      ],
      "metadata": {
        "id": "d3-eXKOu4b1t"
      }
    },
    {
      "cell_type": "code",
      "metadata": {
        "colab": {
          "base_uri": "https://localhost:8080/"
        },
        "id": "9b7d9645",
        "outputId": "bd6d9512-4dbd-42bf-eb56-80288a2afc26"
      },
      "source": [
        "class Student:\n",
        "    \"\"\"Represents a student with name, age, and marks in three subjects.\"\"\"\n",
        "    def __init__(self, name, age, marks):\n",
        "        \"\"\"\n",
        "        Initializes a Student object.\n",
        "\n",
        "        Args:\n",
        "            name (str): The name of the student.\n",
        "            age (int): The age of the student.\n",
        "            marks (list): A list containing the marks in three subjects.\n",
        "        \"\"\"\n",
        "        self.name = name\n",
        "        self.age = age\n",
        "        self.marks = marks\n",
        "\n",
        "    def details(self):\n",
        "        \"\"\"Prints the name and age of the student.\"\"\"\n",
        "        print(f\"Name: {self.name}, Age: {self.age}\")\n",
        "\n",
        "    def total_marks(self):\n",
        "        \"\"\"Calculates and returns the total marks of the student.\"\"\"\n",
        "        return sum(self.marks)\n",
        "\n",
        "# Take input from the user\n",
        "name = input(\"Enter student name: \")\n",
        "age = int(input(\"Enter student age: \"))\n",
        "marks = []\n",
        "for i in range(3):\n",
        "    mark = int(input(f\"Enter mark for subject {i+1}: \"))\n",
        "    marks.append(mark)\n",
        "\n",
        "# Create a Student object\n",
        "student1 = Student(name, age, marks)\n",
        "\n",
        "# Display student details and total marks\n",
        "student1.details()\n",
        "print(f\"Total Marks: {student1.total_marks()}\")"
      ],
      "execution_count": 7,
      "outputs": [
        {
          "output_type": "stream",
          "name": "stdout",
          "text": [
            "Enter student name: navadeep\n",
            "Enter student age: 19\n",
            "Enter mark for subject 1: 12\n",
            "Enter mark for subject 2: 16\n",
            "Enter mark for subject 3: 16\n",
            "Name: navadeep, Age: 19\n",
            "Total Marks: 44\n"
          ]
        }
      ]
    },
    {
      "cell_type": "markdown",
      "source": [
        "**TASK - 4**"
      ],
      "metadata": {
        "id": "7n6P8lH-5J4a"
      }
    },
    {
      "cell_type": "code",
      "metadata": {
        "colab": {
          "base_uri": "https://localhost:8080/"
        },
        "id": "6a160d1b",
        "outputId": "e8973d1e-4885-414b-89b3-ebf80b2a6765"
      },
      "source": [
        "# Take input from the user for the list of numbers\n",
        "nums_str = input(\"Enter a list of numbers separated by spaces: \")\n",
        "nums = [int(num) for num in nums_str.split()]\n",
        "\n",
        "# Refactor the loop using a list comprehension\n",
        "squares = [i * i for i in nums]\n",
        "\n",
        "# Print the original numbers and the calculated squares\n",
        "print(\"Original numbers:\", nums)\n",
        "print(\"Squares:\", squares)"
      ],
      "execution_count": 8,
      "outputs": [
        {
          "output_type": "stream",
          "name": "stdout",
          "text": [
            "Enter a list of numbers separated by spaces: 2 4 6 3 7 1 9\n",
            "Original numbers: [2, 4, 6, 3, 7, 1, 9]\n",
            "Squares: [4, 16, 36, 9, 49, 1, 81]\n"
          ]
        }
      ]
    }
  ]
}